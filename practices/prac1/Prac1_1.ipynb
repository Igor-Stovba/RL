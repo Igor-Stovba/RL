{
 "cells": [
  {
   "cell_type": "markdown",
   "metadata": {
    "id": "k4NMHBq16Y_g"
   },
   "source": [
    "# RL basics\n",
    "\n",
    "Термины и понятия:\n",
    "\n",
    "- агент/среда\n",
    "- наблюдение $o$ / состояние $s$\n",
    "- действие $a$, стратегия $\\pi: \\pi(s) \\rightarrow a$ функция перехода $T: T(s, a) \\rightarrow s'$\n",
    "- вознаграждение $r$, ф-я вознаграждений $R: R(s, a) \\rightarrow r$\n",
    "- цикл взаимодействия, траектория $\\tau: (s_0, a_0, r_0, s_1, a_1, r_1, ..., s_T, a_T, r_T)$, эпизод\n",
    "- отдача $G$, подсчет отдачи, средняя[/ожидаемая] отдача $\\mathbb{E}[G]$"
   ]
  },
  {
   "cell_type": "code",
   "execution_count": 15,
   "metadata": {
    "id": "MoNP7Wdn6aP0"
   },
   "outputs": [],
   "source": [
    "try:\n",
    "    import google.colab\n",
    "    COLAB = True\n",
    "except ModuleNotFoundError:\n",
    "    COLAB = False\n",
    "    pass\n",
    "\n",
    "if COLAB:\n",
    "    !pip -q install \"gymnasium[classic-control, atari, accept-rom-license]\"\n",
    "    !pip -q install piglet\n",
    "    !pip -q install imageio_ffmpeg\n",
    "    !pip -q install moviepy==1.0.3"
   ]
  },
  {
   "cell_type": "code",
   "execution_count": 16,
   "metadata": {
    "id": "9JPaLF5v6esZ"
   },
   "outputs": [],
   "source": [
    "import glob\n",
    "import io\n",
    "import base64\n",
    "import gymnasium as gym\n",
    "import numpy as np\n",
    "from IPython import display as ipythondisplay\n",
    "from IPython.display import HTML\n",
    "import matplotlib.pyplot as plt\n",
    "%matplotlib inline"
   ]
  },
  {
   "cell_type": "markdown",
   "metadata": {
    "id": "OGAoJeNF6hJO"
   },
   "source": [
    "## Agent, environment\n",
    "\n",
    "<img src=https://gymnasium.farama.org/_images/lunar_lander.gif caption=\"lunar lander\" width=\"150\" height=\"50\"><img src=https://gymnasium.farama.org/_images/mountain_car.gif caption=\"mountain car\" width=\"150\" height=\"50\">\n",
    "<img src=https://gymnasium.farama.org/_images/cliff_walking.gif caption=\"cliff walking\" width=\"300\" height=\"50\">\n",
    "<img src=https://ale.farama.org/_images/montezuma_revenge.gif caption=\"montezuma revenge\" width=\"150\" height=\"100\">\n",
    "<img src=https://github.com/danijar/crafter/raw/main/media/video.gif caption=\"crafter\" width=\"150\" height=\"100\">\n",
    "<img src=https://camo.githubusercontent.com/6df2ca438d8fe8aa7a132b859315147818c54af608f8609320c3c20e938acf48/68747470733a2f2f6d656469612e67697068792e636f6d2f6d656469612f344e78376759694d394e44724d724d616f372f67697068792e676966 caption=\"malmo minecraft\" width=\"150\" height=\"100\">\n",
    "<img src=https://images.ctfassets.net/kftzwdyauwt9/e0c0947f-1a44-4528-4a41450a9f0a/2d0e85871d58d02dbe01b2469d693d4a/table-03.gif caption=\"roboschool\" width=\"150\" height=\"100\">\n",
    "<img src=https://raw.githubusercontent.com/Tviskaron/mipt/master/2019/RL/02/mdp.png caption=\"Марковский процесс принятия решений\" width=\"150\" height=\"100\">\n",
    "<img src=https://minigrid.farama.org/_images/DoorKeyEnv.gif caption=\"minigrid\" width=\"120\" height=\"120\">"
   ]
  },
  {
   "cell_type": "markdown",
   "metadata": {
    "id": "dcyLKga76mA_"
   },
   "source": [
    "## Observation, state\n",
    "\n",
    "TODO:\n",
    "- добавить примеры наблюдений/состояний (числа, векторы, картинки)\n",
    "- интуитивное объяснение различия, положить пока, что наблюдение = состояние\n",
    "- пространство состояний\n",
    "\n",
    "\n",
    "В каждый момент времени среда имеет некоторое внутреннее состояние. Здесь слово \"состояние\" я употребил скорее в интуитивном понимании, чтобы обозначить, что среда изменчива (иначе какой смысл с ней взаимодействовать, если ничего не меняется). В обучении с подкреплением под термином состояние $s$ (или $s_t$, где $t$ — текущее время) подразумевают либо абстрактно информацию о \"состоянии\" среды, либо ее явное представление в виде данных, достаточные для полного описания \"состояния\". *NB: Здесь можно провести аналогию с компьютерными играми — файл сохранения игры как раз содержит информацию о \"состоянии\" мира игры, чтобы в будущем можно было продолжить с текущей точки, так что данные этого файла в целом можно с некоторой натяжкой считать состоянием (с натяжкой, потому что редко когда в сложных играх файлы сохранения содержат прямо вот всю информацию, так что после перезагрузки вы получите не совсем точную копию). При этом обычно подразумевается, что состояние не содержит в себе ничего лишнего, то есть это **минимальный** набор информации.*\n",
    "\n",
    "Наблюдением $o$ называют то, что агент \"видит\" о текущем состоянии среды. Это не обязательно зрение, а вообще вся доступная ему информация (условно, со всех его органов чувств).\n",
    "\n",
    "В общем случае наблюдение: кортеж/словарь многомерных векторов чисел."
   ]
  },
  {
   "cell_type": "code",
   "execution_count": 17,
   "metadata": {
    "id": "ypHv9w6i6pcX"
   },
   "outputs": [
    {
     "name": "stdout",
     "output_type": "stream",
     "text": [
      "(4,)\n",
      "(2,)\n"
     ]
    }
   ],
   "source": [
    "print(gym.make(\"CartPole-v0\").reset()[0].shape)\n",
    "print(gym.make(\"MountainCar-v0\").reset()[0].shape)"
   ]
  },
  {
   "cell_type": "markdown",
   "metadata": {
    "id": "GabuCLcJ67lb"
   },
   "source": [
    "## Action, policy, transition function\n",
    "\n",
    "Рассмотрим следующие MDP:\n",
    "\n",
    "- A: <img src=https://i.ibb.co/mrCMVZLQ/mdp-a.png caption=\"A\" width=\"400\" height=\"100\">\n",
    "- B: <img src=https://i.ibb.co/GQ2tVtjC/mdp-b.png caption=\"B\" width=\"400\" height=\"100\">\n",
    "\n",
    "Links to all:\n",
    "[A](https://i.ibb.co/mrCMVZLQ/mdp-a.png)\n",
    "[B](https://i.ibb.co/GQ2tVtjC/mdp-b.png)\n",
    "[C](https://i.ibb.co/Jj9LYHjP/mdp-c.png)\n",
    "[D](https://i.ibb.co/Y47Mr83b/mdp-d.png)\n",
    "[E](https://i.ibb.co/Kjt1Xhmf/mdp-e.png)\n",
    "\n",
    "Давайте явно запишем пространства состояний $S$ и действий $A$, а также функцию перехода $T$ среды."
   ]
  },
  {
   "cell_type": "code",
   "execution_count": 18,
   "metadata": {
    "id": "4XpqNc_o6_CS"
   },
   "outputs": [
    {
     "name": "stdout",
     "output_type": "stream",
     "text": [
      "A_states={0, 1, 2} | A_actions={0}\n",
      "Transition function A_T={(0, 0): 1, (1, 0): 2, (2, 0): 2}\n"
     ]
    }
   ],
   "source": [
    "A_states = set(range(3))\n",
    "A_actions = set(range(1))\n",
    "\n",
    "B_states = set(range(4))\n",
    "B_actions = set(range(3))\n",
    "\n",
    "C_states = set(range(4))\n",
    "C_actions = set(range(2))\n",
    "\n",
    "print(f'{A_states=} | {A_actions=}')\n",
    "\n",
    "A_T = {\n",
    "    (0, 0): 1,\n",
    "    (1, 0): 2,\n",
    "    (2, 0): 2\n",
    "}\n",
    "\n",
    "B_T = {\n",
    "    (0, 0): 1,\n",
    "    (0, 1): 2,\n",
    "    (0, 2): 3,\n",
    "    (1, 0): 1, \n",
    "    (1, 1): 1,\n",
    "    (1, 2): 1,\n",
    "    (2, 0): 2,\n",
    "    (2, 1): 2,\n",
    "    (2, 2): 2,\n",
    "    (3, 0): 3,\n",
    "    (3, 1): 3,\n",
    "    (3, 2): 3\n",
    "}\n",
    "\n",
    "C_T = {\n",
    "    (0, 0): 1,\n",
    "    (0, 1): 2,\n",
    "    (1, 0): 1,\n",
    "    (1, 1): 3,\n",
    "    (2, 0): 3, \n",
    "    (2, 1): 2,\n",
    "    (3, 0): 3, \n",
    "    (3, 1): 3\n",
    "}\n",
    "print(f'Transition function {A_T=}')\n",
    "\n",
    "A_mdp = A_states, A_actions, A_T\n",
    "B_mdp = B_states, B_actions, B_T\n",
    "C_mdp = C_states, C_actions, C_T"
   ]
  },
  {
   "cell_type": "markdown",
   "metadata": {
    "id": "KlqB4WcZ7CDK"
   },
   "source": [
    "Попробуйте записать функцию перехода в матричном виде:"
   ]
  },
  {
   "cell_type": "code",
   "execution_count": 19,
   "metadata": {
    "id": "jmg8hnng7EnJ"
   },
   "outputs": [],
   "source": [
    "A_init_distr = np.array([1.0, 0.0, 0.0])\n",
    "B_init_distr = np.array([1.0, 0.0, 0.0, 0.0])\n",
    "C_init_distr = np.array([1.0, 0.0, 0.0, 0.0])\n",
    "\n",
    "A_matrix = np.array([[0.0, 1.0, 0.0],\n",
    "                     [0.0, 0.0, 1.0],\n",
    "                     [0.0, 0.0, 1.0]])\n",
    "\n",
    "B_matrix = np.array([[0.0, 0.2, 0.5, 0.3],\n",
    "                     [0.0, 1.0, 0.0, 0.0],\n",
    "                     [0.0, 0.0, 1.0, 0.0],\n",
    "                     [0.0, 0.0, 0.0, 1.0]])\n",
    "\n",
    "C_matrix = np.array([[0.0, 0.5, 0.5, 0.0],\n",
    "                     [0.0, 0.5, 0.0, 0.5],\n",
    "                     [0.0, 0.0, 0.5, 0.5],\n",
    "                     [0.0, 0.0, 0.0, 1.0]])\n",
    "\n",
    "def get_prob_after_n_steps_for_all_states(init_distr, P_matrix, N):\n",
    "    return init_distr @ np.pow(P_matrix, N)\n",
    "    \n",
    "def get_prob_after_n_steps_for_one_state(init_distr, P_matrix, N, state):\n",
    "    vec = get_prob_after_n_steps_for_all_states(init_distr, P_matrix, N)\n",
    "    return vec[state]"
   ]
  },
  {
   "cell_type": "markdown",
   "metadata": {
    "id": "_FPshg_07G0R"
   },
   "source": [
    "Как получить вероятность нахождения агента в состоянии (1) через N шагов? Что происходит с вероятностями нахождения в состояниях при $N \\rightarrow \\infty$"
   ]
  },
  {
   "cell_type": "code",
   "execution_count": 20,
   "metadata": {
    "id": "9pwc4Atn7IAf"
   },
   "outputs": [
    {
     "name": "stdout",
     "output_type": "stream",
     "text": [
      "A schema: one - 1.0, all - [0. 1. 0.]\n",
      "B schema: one - 0.0003200000000000001, all - [0.00000000e+00 1.26765060e-70 7.88860905e-31 5.15377521e-53]\n",
      "C schema: one - 0.03125, all - [0.00000000e+00 7.88860905e-31 7.88860905e-31 0.00000000e+00]\n"
     ]
    }
   ],
   "source": [
    "# получение вероятности для состояния 1 для схемы А, N = 5 например\n",
    "prob_A_one = get_prob_after_n_steps_for_one_state(A_init_distr, A_matrix, 5, 1)\n",
    "\n",
    "# получение вероятности для всех состояний для схемы А, N = 100 например\n",
    "prob_A_all = get_prob_after_n_steps_for_all_states(A_init_distr, A_matrix, 100)\n",
    "\n",
    "# получение вероятности для состояния 1 для схемы B, N = 5 например\n",
    "prob_B_one = get_prob_after_n_steps_for_one_state(B_init_distr, B_matrix, 5, 1)\n",
    "\n",
    "# получение вероятности для всех состояний для схемы C, N = 100 например\n",
    "prob_B_all = get_prob_after_n_steps_for_all_states(B_init_distr, B_matrix, 100)\n",
    "\n",
    "# получение вероятности для состояния 1 для схемы C, N = 5 например\n",
    "prob_C_one = get_prob_after_n_steps_for_one_state(C_init_distr, C_matrix, 5, 1)\n",
    "\n",
    "# получение вероятности для всех состояний для схемы C, N = 100 например\n",
    "prob_C_all = get_prob_after_n_steps_for_all_states(C_init_distr, C_matrix, 100)\n",
    "\n",
    "print(f\"A schema: one - {prob_A_one}, all - {prob_A_all}\")\n",
    "print(f\"B schema: one - {prob_B_one}, all - {prob_B_all}\")\n",
    "print(f\"C schema: one - {prob_C_one}, all - {prob_C_all}\")"
   ]
  },
  {
   "cell_type": "markdown",
   "metadata": {
    "id": "p52R04np7Ku0"
   },
   "source": [
    "Задайте еще несколько MDP:\n",
    "\n",
    "- C: <img src=https://i.ibb.co/Jj9LYHjP/mdp-c.png caption=\"C\" width=\"400\" height=\"100\">"
   ]
  },
  {
   "cell_type": "code",
   "execution_count": null,
   "metadata": {
    "id": "JSdJ9ZsI7Nfw"
   },
   "outputs": [],
   "source": []
  },
  {
   "cell_type": "markdown",
   "metadata": {
    "id": "AiU5X4DH7TaG"
   },
   "source": [
    "Давайте попробуем задать двух агентов: случайного и оптимального (для каждой среды свой)."
   ]
  },
  {
   "cell_type": "code",
   "execution_count": 21,
   "metadata": {
    "id": "It2waXJi7WWN"
   },
   "outputs": [],
   "source": [
    "class Agent:\n",
    "    def __init__(self, actions):\n",
    "        self.rng = np.random.default_rng()\n",
    "        self.actions = np.array(list(actions))\n",
    "\n",
    "    def act(self, state):\n",
    "        return self.rng.integers(len(self.actions))"
   ]
  },
  {
   "cell_type": "markdown",
   "metadata": {
    "id": "VH6uo4EP7ZqB"
   },
   "source": [
    "В качестве дополнения, запишите стратегию агента"
   ]
  },
  {
   "cell_type": "code",
   "execution_count": 22,
   "metadata": {
    "id": "t68c_r-W7asH"
   },
   "outputs": [],
   "source": [
    "import random\n",
    "\n",
    "class SmartAgentA:\n",
    "    def __init__(self, actions):\n",
    "        self.actions = np.array(list(actions))\n",
    "\n",
    "    def act(self, state):\n",
    "        return 0\n",
    "\n",
    "class SmartAgentB:\n",
    "    def __init__(self, actions):\n",
    "        self.actions = np.array(list(actions))\n",
    "\n",
    "    def act(self, state):\n",
    "        return random.choice([0, 1, 2])\n",
    "\n",
    "class SmartAgentC:\n",
    "    def __init__(self, actions):\n",
    "        self.actions = np.array(list(actions))\n",
    "\n",
    "    def act(self, state):\n",
    "        if state == 0:\n",
    "            return random.choice([0, 1])\n",
    "        if state == 1:\n",
    "            return 1\n",
    "        if state == 2:\n",
    "            return 0\n",
    "        return random.choice([0, 1])"
   ]
  },
  {
   "cell_type": "markdown",
   "metadata": {
    "id": "XGx2-KeH7lL4"
   },
   "source": [
    "## Reward, reward function\n",
    "\n",
    "Теперь добавим произвольную функцию вознаграждения. Например, для A:"
   ]
  },
  {
   "cell_type": "code",
   "execution_count": 23,
   "metadata": {
    "id": "fk7umEnA7oFv"
   },
   "outputs": [
    {
     "name": "stdout",
     "output_type": "stream",
     "text": [
      "{(0, 0): -0.1, (1, 0): 1.0, (2, 0): 0.0}\n",
      "({0, 1, 2}, {0}, {(0, 0): 1, (1, 0): 2, (2, 0): 2}, {(0, 0): -0.1, (1, 0): 1.0, (2, 0): 0.0})\n"
     ]
    }
   ],
   "source": [
    "R_A = {\n",
    "    (0, 0): -0.1,\n",
    "    (1, 0): 1.0,\n",
    "    (2, 0): 0.0\n",
    "}\n",
    "\n",
    "R_B = {\n",
    "    (0, 0): 1.0,\n",
    "    (0, 1): 1.0,\n",
    "    (0, 2): 1.0,\n",
    "    (1, 0): 0.0, \n",
    "    (1, 1): 0.0,\n",
    "    (1, 2): 0.0,\n",
    "    (2, 0): 0.0, \n",
    "    (2, 1): 0.0,\n",
    "    (2, 2): 0.0,\n",
    "    (3, 0): 0.0, \n",
    "    (3, 1): 0.0,\n",
    "    (3, 2): 0.0,\n",
    "}\n",
    "\n",
    "R_C = {\n",
    "    (0, 0): 1.0,\n",
    "    (0, 1): 1.0,\n",
    "    (1, 0): 0.0,\n",
    "    (1, 1): 1.0,\n",
    "    (2, 0): 1.0,\n",
    "    (2, 1): 0.0,\n",
    "    (3, 0): 0.0,\n",
    "    (3, 1): 0.0,\n",
    "}\n",
    "\n",
    "print(R_A)\n",
    "\n",
    "A_mdp = *A_mdp, R_A\n",
    "B_mdp = *B_mdp, R_B\n",
    "C_mdp = *C_mdp, R_C\n",
    "print(A_mdp)"
   ]
  },
  {
   "cell_type": "markdown",
   "metadata": {
    "id": "j92TZ1l67rVh"
   },
   "source": [
    "## Interaction loop, trajectory, termination, truncation, episode\n",
    "\n",
    "Общий цикл взаимодействия в рамках эпизода:\n",
    "1. Инициализировать среду: $s \\leftarrow \\text{env.init()}$\n",
    "2. Цикл:\n",
    "    - выбрать действие: $a \\leftarrow \\pi(s)$\n",
    "    - получить ответ от среды: $s, r, d \\leftarrow \\text{env.next(a)}$\n",
    "    - если $d == \\text{True}$, выйти из цикла"
   ]
  },
  {
   "cell_type": "code",
   "execution_count": 24,
   "metadata": {
    "id": "MRPZACJt7vG8"
   },
   "outputs": [
    {
     "data": {
      "text/plain": [
       "[(0, np.int64(0), -0.1), (1, np.int64(0), 1.0)]"
      ]
     },
     "execution_count": 24,
     "metadata": {},
     "output_type": "execute_result"
    }
   ],
   "source": [
    "def run_episode(mdp, agentClass, term_state):\n",
    "    states, actions, T, R = mdp\n",
    "    agent = agentClass(actions)\n",
    "\n",
    "    s = 0\n",
    "    tau = []\n",
    "    for _ in range(5):\n",
    "        if s == term_state:\n",
    "            break\n",
    "        a = agent.act(s)\n",
    "        s_next = T[(s, a)]\n",
    "        r = R[(s, a)]\n",
    "\n",
    "        tau.append((s, a, r))\n",
    "        s = s_next\n",
    "\n",
    "    return tau\n",
    "\n",
    "run_episode(A_mdp, Agent, 2)"
   ]
  },
  {
   "cell_type": "code",
   "execution_count": 25,
   "metadata": {},
   "outputs": [
    {
     "data": {
      "text/plain": [
       "[(0, 0, -0.1), (1, 0, 1.0)]"
      ]
     },
     "execution_count": 25,
     "metadata": {},
     "output_type": "execute_result"
    }
   ],
   "source": [
    "run_episode(A_mdp, SmartAgentA, 2)"
   ]
  },
  {
   "cell_type": "code",
   "execution_count": 26,
   "metadata": {},
   "outputs": [
    {
     "data": {
      "text/plain": [
       "[(0, 2, 1.0)]"
      ]
     },
     "execution_count": 26,
     "metadata": {},
     "output_type": "execute_result"
    }
   ],
   "source": [
    "run_episode(B_mdp, SmartAgentB, 3)"
   ]
  },
  {
   "cell_type": "code",
   "execution_count": 27,
   "metadata": {},
   "outputs": [
    {
     "data": {
      "text/plain": [
       "[(0, 0, 1.0), (1, 1, 1.0)]"
      ]
     },
     "execution_count": 27,
     "metadata": {},
     "output_type": "execute_result"
    }
   ],
   "source": [
    "run_episode(C_mdp, SmartAgentC, 3)"
   ]
  },
  {
   "cell_type": "markdown",
   "metadata": {
    "id": "wbGEr8kl7xnS"
   },
   "source": [
    "Termination — означает окончание эпизода, когда достигнуто терминальное состояние. Является частью задания среды.\n",
    "\n",
    "Truncation — означает окончание эпизода, когда достигнут лимит по числу шагов (=времени). Обычно является внешне заданным параметром для удобства обучения.\n",
    "\n",
    "Пока не будем вводить truncation, но поддержим termination: расширьте определение среды информацией о терминальных состояниях для всех описанных ранее сред. Сгенерируйте по несколько случайных траекторий для каждой среды."
   ]
  },
  {
   "cell_type": "markdown",
   "metadata": {
    "id": "lxHNM9kS74WW"
   },
   "source": [
    "### Return, expected return\n",
    "\n",
    "Наиболее важная метрика оценки качества работы агента: отдача.\n",
    "\n",
    "Отдача: $G(s_t) = \\sum_{i=t}^T r_i$\n",
    "\n",
    "Обычно также вводят параметр $\\gamma \\in [0, 1]$, дисконтирующий будущие вознаграждения. А еще, тк отдача может меняться от запуска к запуску благодаря вероятностным процессам, нас интересует отдача в среднем — ожидаемая отдача:\n",
    "\n",
    "$$\\hat{G}(s_t) = \\mathbb{E} [ \\sum_{i=t}^T \\gamma^{i-t} r_i ]$$\n",
    "\n",
    "Именно ее и оптимизируют в RL.\n",
    "\n",
    "Давайте научимся считать отдачу для состояний по траектории и считать среднюю отдачу."
   ]
  },
  {
   "cell_type": "code",
   "execution_count": 29,
   "metadata": {
    "id": "scdThsNA8T2B"
   },
   "outputs": [
    {
     "name": "stdout",
     "output_type": "stream",
     "text": [
      "a_array: [0.0, -0.09999999999999999, 0.8500000000000002]\n",
      "b_array: [0.0, 1.0, 1.0, 1.0]\n",
      "c_array: [0.0, 1.6649999999999998, 1.6649999999999998, 1.9499999999999997]\n"
     ]
    }
   ],
   "source": [
    "N = 10\n",
    "\n",
    "# for A\n",
    "a_array = list()\n",
    "for state in range(3):\n",
    "    G_A = 0.0\n",
    "    for i in range(N):\n",
    "        traj = run_episode(A_mdp, SmartAgentA, state)\n",
    "        sum_delta = 1.0\n",
    "        delta = 0.95\n",
    "        for s, a, r in traj:\n",
    "            G_A += sum_delta * r\n",
    "            sum_delta *= delta\n",
    "    a_array.append(G_A / N)\n",
    "\n",
    "#for B\n",
    "b_array = list()\n",
    "for state in range(4):\n",
    "    G_B = 0.0\n",
    "    for i in range(N):\n",
    "        traj = run_episode(B_mdp, SmartAgentB, state)\n",
    "        sum_delta = 1.0\n",
    "        delta = 0.95\n",
    "        for s, a, r in traj:\n",
    "            G_B += sum_delta * r\n",
    "            sum_delta *= delta\n",
    "    b_array.append(G_B / N)\n",
    "\n",
    "#for C\n",
    "c_array = list()\n",
    "for state in range(4):\n",
    "    G_C = 0.0\n",
    "    for i in range(N):\n",
    "        traj = run_episode(C_mdp, SmartAgentC, state)\n",
    "        sum_delta = 1.0\n",
    "        delta = 0.95\n",
    "        for s, a, r in traj:\n",
    "            G_C += sum_delta * r\n",
    "            sum_delta *= delta\n",
    "    c_array.append(G_C / N)\n",
    "\n",
    "print(f\"a_array: {a_array}\")\n",
    "print(f\"b_array: {b_array}\")\n",
    "print(f\"c_array: {c_array}\")"
   ]
  },
  {
   "cell_type": "code",
   "execution_count": null,
   "metadata": {},
   "outputs": [],
   "source": []
  }
 ],
 "metadata": {
  "colab": {
   "provenance": []
  },
  "kernelspec": {
   "display_name": "Python (myenv)",
   "language": "python",
   "name": "dl_hw1_venv"
  },
  "language_info": {
   "codemirror_mode": {
    "name": "ipython",
    "version": 3
   },
   "file_extension": ".py",
   "mimetype": "text/x-python",
   "name": "python",
   "nbconvert_exporter": "python",
   "pygments_lexer": "ipython3",
   "version": "3.9.0"
  }
 },
 "nbformat": 4,
 "nbformat_minor": 4
}
